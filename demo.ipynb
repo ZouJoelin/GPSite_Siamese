{
 "cells": [
  {
   "cell_type": "code",
   "execution_count": 1,
   "metadata": {},
   "outputs": [],
   "source": [
    "import os\n",
    "\n",
    "import numpy as np\n",
    "import torch\n",
    "\n",
    "from tqdm import tqdm"
   ]
  },
  {
   "cell_type": "code",
   "execution_count": 2,
   "metadata": {},
   "outputs": [
    {
     "data": {
      "text/html": [
       "<div>\n",
       "<style scoped>\n",
       "    .dataframe tbody tr th:only-of-type {\n",
       "        vertical-align: middle;\n",
       "    }\n",
       "\n",
       "    .dataframe tbody tr th {\n",
       "        vertical-align: top;\n",
       "    }\n",
       "\n",
       "    .dataframe thead th {\n",
       "        text-align: right;\n",
       "    }\n",
       "</style>\n",
       "<table border=\"1\" class=\"dataframe\">\n",
       "  <thead>\n",
       "    <tr style=\"text-align: right;\">\n",
       "      <th></th>\n",
       "      <th>pdb</th>\n",
       "      <th>mutation</th>\n",
       "      <th>affinity_wt</th>\n",
       "      <th>affinity_mut</th>\n",
       "      <th>temp</th>\n",
       "      <th>ddg</th>\n",
       "      <th>daffinity</th>\n",
       "    </tr>\n",
       "  </thead>\n",
       "  <tbody>\n",
       "    <tr>\n",
       "      <th>0</th>\n",
       "      <td>1CSE_E_I</td>\n",
       "      <td>LI38G</td>\n",
       "      <td>1.120000e-12</td>\n",
       "      <td>5.260000e-11</td>\n",
       "      <td>294.0</td>\n",
       "      <td>2.248833</td>\n",
       "      <td>5.148000e-11</td>\n",
       "    </tr>\n",
       "    <tr>\n",
       "      <th>1</th>\n",
       "      <td>1CSE_E_I</td>\n",
       "      <td>LI38S</td>\n",
       "      <td>1.120000e-12</td>\n",
       "      <td>8.330000e-12</td>\n",
       "      <td>294.0</td>\n",
       "      <td>1.172229</td>\n",
       "      <td>7.210000e-12</td>\n",
       "    </tr>\n",
       "    <tr>\n",
       "      <th>2</th>\n",
       "      <td>1CSE_E_I</td>\n",
       "      <td>LI38P</td>\n",
       "      <td>1.120000e-12</td>\n",
       "      <td>1.020000e-07</td>\n",
       "      <td>294.0</td>\n",
       "      <td>6.671276</td>\n",
       "      <td>1.019989e-07</td>\n",
       "    </tr>\n",
       "    <tr>\n",
       "      <th>3</th>\n",
       "      <td>1CSE_E_I</td>\n",
       "      <td>LI38I</td>\n",
       "      <td>1.120000e-12</td>\n",
       "      <td>1.720000e-10</td>\n",
       "      <td>294.0</td>\n",
       "      <td>2.940988</td>\n",
       "      <td>1.708800e-10</td>\n",
       "    </tr>\n",
       "    <tr>\n",
       "      <th>4</th>\n",
       "      <td>1CSE_E_I</td>\n",
       "      <td>LI38D</td>\n",
       "      <td>1.120000e-12</td>\n",
       "      <td>1.920000e-09</td>\n",
       "      <td>294.0</td>\n",
       "      <td>4.350434</td>\n",
       "      <td>1.918880e-09</td>\n",
       "    </tr>\n",
       "    <tr>\n",
       "      <th>...</th>\n",
       "      <td>...</td>\n",
       "      <td>...</td>\n",
       "      <td>...</td>\n",
       "      <td>...</td>\n",
       "      <td>...</td>\n",
       "      <td>...</td>\n",
       "      <td>...</td>\n",
       "    </tr>\n",
       "    <tr>\n",
       "      <th>5842</th>\n",
       "      <td>3QIB_ABP_CD</td>\n",
       "      <td>KP8R</td>\n",
       "      <td>5.500000e-06</td>\n",
       "      <td>2.400000e-04</td>\n",
       "      <td>298.0</td>\n",
       "      <td>2.235909</td>\n",
       "      <td>2.345000e-04</td>\n",
       "    </tr>\n",
       "    <tr>\n",
       "      <th>5843</th>\n",
       "      <td>3QIB_ABP_CD</td>\n",
       "      <td>TP11A</td>\n",
       "      <td>5.500000e-06</td>\n",
       "      <td>1.100000e-03</td>\n",
       "      <td>298.0</td>\n",
       "      <td>3.137419</td>\n",
       "      <td>1.094500e-03</td>\n",
       "    </tr>\n",
       "    <tr>\n",
       "      <th>5844</th>\n",
       "      <td>3QIB_ABP_CD</td>\n",
       "      <td>TP11S</td>\n",
       "      <td>5.500000e-06</td>\n",
       "      <td>3.380000e-05</td>\n",
       "      <td>298.0</td>\n",
       "      <td>1.075181</td>\n",
       "      <td>2.830000e-05</td>\n",
       "    </tr>\n",
       "    <tr>\n",
       "      <th>5845</th>\n",
       "      <td>3QIB_ABP_CD</td>\n",
       "      <td>TP11N</td>\n",
       "      <td>5.500000e-06</td>\n",
       "      <td>4.340000e-05</td>\n",
       "      <td>298.0</td>\n",
       "      <td>1.223219</td>\n",
       "      <td>3.790000e-05</td>\n",
       "    </tr>\n",
       "    <tr>\n",
       "      <th>5846</th>\n",
       "      <td>3QIB_ABP_CD</td>\n",
       "      <td>YP6F,TP11S</td>\n",
       "      <td>5.500000e-06</td>\n",
       "      <td>4.290000e-05</td>\n",
       "      <td>298.0</td>\n",
       "      <td>1.216357</td>\n",
       "      <td>3.740000e-05</td>\n",
       "    </tr>\n",
       "  </tbody>\n",
       "</table>\n",
       "<p>5847 rows × 7 columns</p>\n",
       "</div>"
      ],
      "text/plain": [
       "              pdb    mutation   affinity_wt  affinity_mut   temp       ddg  \\\n",
       "0        1CSE_E_I       LI38G  1.120000e-12  5.260000e-11  294.0  2.248833   \n",
       "1        1CSE_E_I       LI38S  1.120000e-12  8.330000e-12  294.0  1.172229   \n",
       "2        1CSE_E_I       LI38P  1.120000e-12  1.020000e-07  294.0  6.671276   \n",
       "3        1CSE_E_I       LI38I  1.120000e-12  1.720000e-10  294.0  2.940988   \n",
       "4        1CSE_E_I       LI38D  1.120000e-12  1.920000e-09  294.0  4.350434   \n",
       "...           ...         ...           ...           ...    ...       ...   \n",
       "5842  3QIB_ABP_CD        KP8R  5.500000e-06  2.400000e-04  298.0  2.235909   \n",
       "5843  3QIB_ABP_CD       TP11A  5.500000e-06  1.100000e-03  298.0  3.137419   \n",
       "5844  3QIB_ABP_CD       TP11S  5.500000e-06  3.380000e-05  298.0  1.075181   \n",
       "5845  3QIB_ABP_CD       TP11N  5.500000e-06  4.340000e-05  298.0  1.223219   \n",
       "5846  3QIB_ABP_CD  YP6F,TP11S  5.500000e-06  4.290000e-05  298.0  1.216357   \n",
       "\n",
       "         daffinity  \n",
       "0     5.148000e-11  \n",
       "1     7.210000e-12  \n",
       "2     1.019989e-07  \n",
       "3     1.708800e-10  \n",
       "4     1.918880e-09  \n",
       "...            ...  \n",
       "5842  2.345000e-04  \n",
       "5843  1.094500e-03  \n",
       "5844  2.830000e-05  \n",
       "5845  3.790000e-05  \n",
       "5846  3.740000e-05  \n",
       "\n",
       "[5847 rows x 7 columns]"
      ]
     },
     "execution_count": 2,
     "metadata": {},
     "output_type": "execute_result"
    }
   ],
   "source": [
    "info = torch.load(\"./data/dataset.pt\")\n",
    "info\n"
   ]
  },
  {
   "cell_type": "code",
   "execution_count": 4,
   "metadata": {},
   "outputs": [
    {
     "data": {
      "text/plain": [
       "(Data(edge_index=[2, 21299], name='1CSE', seq='AQTVPYGIPLIKADKVQAQGFKGANVKVAVLDTGIQASHPDLNVVGGASFVAGEAYNTDGNGHGTHVAGTVAALDNTTGVLGVAPSVSLYAVKVLNSSGSGSYSGIVSGIEWATTNGMDVINMSLGGASGSTAMKQAVDNAYARGVVVVAAAGNSGNSGSTNTIGYPAKYDSVIAVGAVDSNSNRASFSSVGAELEVMAPGAGVYSTYPTNTYATLNGTSMASPHVAGAAALILSKHPNLSASQVRNRLSSTATYLGSSFYYGKGLINVEAAAQKSFPEVVGKTVDQAREYFTLHYPQYNVYFLPEGSPVTLDLRYNRVRVFYNPGTNVVNHVPHVG', coord=[337, 5, 3], node_feat=[337, 1033]),\n",
       " Data(edge_index=[2, 21299], name='1CSE_E_I_LI38I', seq='AQTVPYGIPLIKADKVQAQGFKGANVKVAVLDTGIQASHPDLNVVGGASFVAGEAYNTDGNGHGTHVAGTVAALDNTTGVLGVAPSVSLYAVKVLNSSGSGSYSGIVSGIEWATTNGMDVINMSLGGASGSTAMKQAVDNAYARGVVVVAAAGNSGNSGSTNTIGYPAKYDSVIAVGAVDSNSNRASFSSVGAELEVMAPGAGVYSTYPTNTYATLNGTSMASPHVAGAAALILSKHPNLSASQVRNRLSSTATYLGSSFYYGKGLINVEAAAQKSFPEVVGKTVDQAREYFTLHYPQYNVYFLPEGSPVTIDLRYNRVRVFYNPGTNVVNHVPHVG', coord=[337, 5, 3], node_feat=[337, 1033]),\n",
       " tensor(2.9410))"
      ]
     },
     "execution_count": 4,
     "metadata": {},
     "output_type": "execute_result"
    }
   ],
   "source": [
    "from data import *\n",
    "\n",
    "train_dataset = SiameseProteinGraphDataset(info, feature_path=\"./data/\", radius=15)\n",
    "\n",
    "index = 3\n",
    "train_dataset[index]"
   ]
  },
  {
   "cell_type": "code",
   "execution_count": 5,
   "metadata": {},
   "outputs": [
    {
     "name": "stdout",
     "output_type": "stream",
     "text": [
      "train_dataset: 5847\n",
      "train_dataloader: 1462\n"
     ]
    }
   ],
   "source": [
    "from torch_geometric.loader import DataLoader\n",
    "\n",
    "batch_size = 4\n",
    "train_dataloader = DataLoader(train_dataset, batch_size=batch_size)\n",
    "\n",
    "print(f\"train_dataset: {train_dataset.__len__()}\")  # total_data * (fold-1)/fold\n",
    "print(f\"train_dataloader: {train_dataloader.__len__()}\")  # num_samples / batch_size\n"
   ]
  },
  {
   "cell_type": "code",
   "execution_count": 6,
   "metadata": {},
   "outputs": [
    {
     "name": "stdout",
     "output_type": "stream",
     "text": [
      "Available GPUs: [0, 1, 2, 3, 4, 5, 6]\n",
      "Using device: cuda:3\n"
     ]
    }
   ],
   "source": [
    "using_gpu = True\n",
    "if using_gpu and torch.cuda.is_available():\n",
    "    gpu_ids = list(range(torch.cuda.device_count()))\n",
    "    print(f\"Available GPUs: {gpu_ids}\")\n",
    "    device = torch.device(\"cuda\", gpu_ids[3])\n",
    "else:\n",
    "    device = torch.device(\"cpu\")\n",
    "    \n",
    "print(f\"Using device: {device}\")"
   ]
  },
  {
   "cell_type": "code",
   "execution_count": 7,
   "metadata": {},
   "outputs": [],
   "source": [
    "from model import *\n",
    "\n",
    "model = SiameseGPSite().to(device)\n"
   ]
  },
  {
   "cell_type": "code",
   "execution_count": 8,
   "metadata": {},
   "outputs": [],
   "source": [
    "learning_rate = 1e-3\n",
    "beta12 = (0.9, 0.99)\n",
    "num_epochs = 25\n",
    "epochs = 25\n",
    "\n",
    "loss_fn = nn.MSELoss()\n",
    "optimizer = torch.optim.Adam(model.parameters(), lr=learning_rate, betas=beta12, weight_decay=1e-5, eps=1e-5)\n",
    "# scheduler = torch.optim.lr_scheduler.OneCycleLR(optimizer, max_lr=learning_rate, steps_per_epoch=len(train_dataloader), epochs=epochs)  # ???\n",
    "\n"
   ]
  },
  {
   "cell_type": "code",
   "execution_count": 11,
   "metadata": {},
   "outputs": [
    {
     "name": "stdout",
     "output_type": "stream",
     "text": [
      "DataBatch(edge_index=[2, 85196], name=[4], seq=[4], coord=[1348, 5, 3], node_feat=[1348, 1033], batch=[1348], ptr=[5])\n",
      "DataBatch(edge_index=[2, 85196], name=[4], seq=[4], coord=[1348, 5, 3], node_feat=[1348, 1033], batch=[1348], ptr=[5])\n",
      "Predicted: tensor([-0.0351, -0.0351, -0.0349, -0.0349], device='cuda:3')\n",
      "Actual: tensor([2.2488, 1.1722, 6.6713, 2.9410], device='cuda:3')\n"
     ]
    }
   ],
   "source": [
    "# test\n",
    "train_data = next(iter(train_dataloader))\n",
    "model.eval()\n",
    "with torch.no_grad():\n",
    "    wt_graph, mut_graph, y = train_data\n",
    "    wt_graph, mut_graph, y = wt_graph.to(device), mut_graph.to(device), y.to(device)\n",
    "    print(wt_graph)\n",
    "    print(mut_graph)\n",
    "\n",
    "    pred = model(wt_graph, mut_graph)\n",
    "\n",
    "    print(f\"Predicted: {pred}\\nActual: {y}\")\n",
    "    # print((pred == y))\n",
    "    # print(((pred == y)).sum())\n",
    "    \n"
   ]
  },
  {
   "cell_type": "code",
   "execution_count": 12,
   "metadata": {},
   "outputs": [
    {
     "name": "stdout",
     "output_type": "stream",
     "text": [
      "Epoch 1/25\n"
     ]
    },
    {
     "name": "stderr",
     "output_type": "stream",
     "text": [
      "\u001b[31mloss: 0.5296\u001b[0m:  21%|██        | 303/1462 [08:43<33:23,  1.73s/it]  \n"
     ]
    },
    {
     "ename": "KeyboardInterrupt",
     "evalue": "",
     "output_type": "error",
     "traceback": [
      "\u001b[0;31m---------------------------------------------------------------------------\u001b[0m",
      "\u001b[0;31mKeyboardInterrupt\u001b[0m                         Traceback (most recent call last)",
      "\u001b[1;32m/home/zoujl/GPSite_siamese/demo.ipynb 单元格 9\u001b[0m line \u001b[0;36m8\n\u001b[1;32m      <a href='vscode-notebook-cell://ssh-remote%2Bgpu2/home/zoujl/GPSite_siamese/demo.ipynb#X12sdnNjb2RlLXJlbW90ZQ%3D%3D?line=4'>5</a>\u001b[0m \u001b[39mprint\u001b[39m(\u001b[39mf\u001b[39m\u001b[39m\"\u001b[39m\u001b[39mEpoch \u001b[39m\u001b[39m{\u001b[39;00mepoch\u001b[39m+\u001b[39m\u001b[39m1\u001b[39m\u001b[39m}\u001b[39;00m\u001b[39m/\u001b[39m\u001b[39m{\u001b[39;00mnum_epochs\u001b[39m}\u001b[39;00m\u001b[39m\"\u001b[39m)\n\u001b[1;32m      <a href='vscode-notebook-cell://ssh-remote%2Bgpu2/home/zoujl/GPSite_siamese/demo.ipynb#X12sdnNjb2RlLXJlbW90ZQ%3D%3D?line=5'>6</a>\u001b[0m progress_bar \u001b[39m=\u001b[39m tqdm(\u001b[39menumerate\u001b[39m(train_dataloader), total\u001b[39m=\u001b[39m\u001b[39mlen\u001b[39m(train_dataloader), position\u001b[39m=\u001b[39m\u001b[39m0\u001b[39m, leave\u001b[39m=\u001b[39m\u001b[39mTrue\u001b[39;00m)\n\u001b[0;32m----> <a href='vscode-notebook-cell://ssh-remote%2Bgpu2/home/zoujl/GPSite_siamese/demo.ipynb#X12sdnNjb2RlLXJlbW90ZQ%3D%3D?line=7'>8</a>\u001b[0m \u001b[39mfor\u001b[39;00m batch, (wt_graph, mut_graph, y) \u001b[39min\u001b[39;00m progress_bar:\n\u001b[1;32m      <a href='vscode-notebook-cell://ssh-remote%2Bgpu2/home/zoujl/GPSite_siamese/demo.ipynb#X12sdnNjb2RlLXJlbW90ZQ%3D%3D?line=8'>9</a>\u001b[0m     wt_graph, mut_graph, y \u001b[39m=\u001b[39m wt_graph\u001b[39m.\u001b[39mto(device), mut_graph\u001b[39m.\u001b[39mto(device), y\u001b[39m.\u001b[39mto(device)\n\u001b[1;32m     <a href='vscode-notebook-cell://ssh-remote%2Bgpu2/home/zoujl/GPSite_siamese/demo.ipynb#X12sdnNjb2RlLXJlbW90ZQ%3D%3D?line=9'>10</a>\u001b[0m     pred \u001b[39m=\u001b[39m model(wt_graph, mut_graph)\n",
      "File \u001b[0;32m~/miniconda3/envs/gpsite/lib/python3.8/site-packages/tqdm/std.py:1182\u001b[0m, in \u001b[0;36mtqdm.__iter__\u001b[0;34m(self)\u001b[0m\n\u001b[1;32m   1179\u001b[0m time \u001b[39m=\u001b[39m \u001b[39mself\u001b[39m\u001b[39m.\u001b[39m_time\n\u001b[1;32m   1181\u001b[0m \u001b[39mtry\u001b[39;00m:\n\u001b[0;32m-> 1182\u001b[0m     \u001b[39mfor\u001b[39;00m obj \u001b[39min\u001b[39;00m iterable:\n\u001b[1;32m   1183\u001b[0m         \u001b[39myield\u001b[39;00m obj\n\u001b[1;32m   1184\u001b[0m         \u001b[39m# Update and possibly print the progressbar.\u001b[39;00m\n\u001b[1;32m   1185\u001b[0m         \u001b[39m# Note: does not call self.update(1) for speed optimisation.\u001b[39;00m\n",
      "File \u001b[0;32m~/miniconda3/envs/gpsite/lib/python3.8/site-packages/torch/utils/data/dataloader.py:628\u001b[0m, in \u001b[0;36m_BaseDataLoaderIter.__next__\u001b[0;34m(self)\u001b[0m\n\u001b[1;32m    625\u001b[0m \u001b[39mif\u001b[39;00m \u001b[39mself\u001b[39m\u001b[39m.\u001b[39m_sampler_iter \u001b[39mis\u001b[39;00m \u001b[39mNone\u001b[39;00m:\n\u001b[1;32m    626\u001b[0m     \u001b[39m# TODO(https://github.com/pytorch/pytorch/issues/76750)\u001b[39;00m\n\u001b[1;32m    627\u001b[0m     \u001b[39mself\u001b[39m\u001b[39m.\u001b[39m_reset()  \u001b[39m# type: ignore[call-arg]\u001b[39;00m\n\u001b[0;32m--> 628\u001b[0m data \u001b[39m=\u001b[39m \u001b[39mself\u001b[39;49m\u001b[39m.\u001b[39;49m_next_data()\n\u001b[1;32m    629\u001b[0m \u001b[39mself\u001b[39m\u001b[39m.\u001b[39m_num_yielded \u001b[39m+\u001b[39m\u001b[39m=\u001b[39m \u001b[39m1\u001b[39m\n\u001b[1;32m    630\u001b[0m \u001b[39mif\u001b[39;00m \u001b[39mself\u001b[39m\u001b[39m.\u001b[39m_dataset_kind \u001b[39m==\u001b[39m _DatasetKind\u001b[39m.\u001b[39mIterable \u001b[39mand\u001b[39;00m \\\n\u001b[1;32m    631\u001b[0m         \u001b[39mself\u001b[39m\u001b[39m.\u001b[39m_IterableDataset_len_called \u001b[39mis\u001b[39;00m \u001b[39mnot\u001b[39;00m \u001b[39mNone\u001b[39;00m \u001b[39mand\u001b[39;00m \\\n\u001b[1;32m    632\u001b[0m         \u001b[39mself\u001b[39m\u001b[39m.\u001b[39m_num_yielded \u001b[39m>\u001b[39m \u001b[39mself\u001b[39m\u001b[39m.\u001b[39m_IterableDataset_len_called:\n",
      "File \u001b[0;32m~/miniconda3/envs/gpsite/lib/python3.8/site-packages/torch/utils/data/dataloader.py:671\u001b[0m, in \u001b[0;36m_SingleProcessDataLoaderIter._next_data\u001b[0;34m(self)\u001b[0m\n\u001b[1;32m    669\u001b[0m \u001b[39mdef\u001b[39;00m \u001b[39m_next_data\u001b[39m(\u001b[39mself\u001b[39m):\n\u001b[1;32m    670\u001b[0m     index \u001b[39m=\u001b[39m \u001b[39mself\u001b[39m\u001b[39m.\u001b[39m_next_index()  \u001b[39m# may raise StopIteration\u001b[39;00m\n\u001b[0;32m--> 671\u001b[0m     data \u001b[39m=\u001b[39m \u001b[39mself\u001b[39;49m\u001b[39m.\u001b[39;49m_dataset_fetcher\u001b[39m.\u001b[39;49mfetch(index)  \u001b[39m# may raise StopIteration\u001b[39;00m\n\u001b[1;32m    672\u001b[0m     \u001b[39mif\u001b[39;00m \u001b[39mself\u001b[39m\u001b[39m.\u001b[39m_pin_memory:\n\u001b[1;32m    673\u001b[0m         data \u001b[39m=\u001b[39m _utils\u001b[39m.\u001b[39mpin_memory\u001b[39m.\u001b[39mpin_memory(data, \u001b[39mself\u001b[39m\u001b[39m.\u001b[39m_pin_memory_device)\n",
      "File \u001b[0;32m~/miniconda3/envs/gpsite/lib/python3.8/site-packages/torch/utils/data/_utils/fetch.py:58\u001b[0m, in \u001b[0;36m_MapDatasetFetcher.fetch\u001b[0;34m(self, possibly_batched_index)\u001b[0m\n\u001b[1;32m     56\u001b[0m         data \u001b[39m=\u001b[39m \u001b[39mself\u001b[39m\u001b[39m.\u001b[39mdataset\u001b[39m.\u001b[39m__getitems__(possibly_batched_index)\n\u001b[1;32m     57\u001b[0m     \u001b[39melse\u001b[39;00m:\n\u001b[0;32m---> 58\u001b[0m         data \u001b[39m=\u001b[39m [\u001b[39mself\u001b[39m\u001b[39m.\u001b[39mdataset[idx] \u001b[39mfor\u001b[39;00m idx \u001b[39min\u001b[39;00m possibly_batched_index]\n\u001b[1;32m     59\u001b[0m \u001b[39melse\u001b[39;00m:\n\u001b[1;32m     60\u001b[0m     data \u001b[39m=\u001b[39m \u001b[39mself\u001b[39m\u001b[39m.\u001b[39mdataset[possibly_batched_index]\n",
      "File \u001b[0;32m~/miniconda3/envs/gpsite/lib/python3.8/site-packages/torch/utils/data/_utils/fetch.py:58\u001b[0m, in \u001b[0;36m<listcomp>\u001b[0;34m(.0)\u001b[0m\n\u001b[1;32m     56\u001b[0m         data \u001b[39m=\u001b[39m \u001b[39mself\u001b[39m\u001b[39m.\u001b[39mdataset\u001b[39m.\u001b[39m__getitems__(possibly_batched_index)\n\u001b[1;32m     57\u001b[0m     \u001b[39melse\u001b[39;00m:\n\u001b[0;32m---> 58\u001b[0m         data \u001b[39m=\u001b[39m [\u001b[39mself\u001b[39;49m\u001b[39m.\u001b[39;49mdataset[idx] \u001b[39mfor\u001b[39;00m idx \u001b[39min\u001b[39;00m possibly_batched_index]\n\u001b[1;32m     59\u001b[0m \u001b[39melse\u001b[39;00m:\n\u001b[1;32m     60\u001b[0m     data \u001b[39m=\u001b[39m \u001b[39mself\u001b[39m\u001b[39m.\u001b[39mdataset[possibly_batched_index]\n",
      "File \u001b[0;32m~/GPSite_siamese/data.py:31\u001b[0m, in \u001b[0;36mSiameseProteinGraphDataset.__getitem__\u001b[0;34m(self, idx)\u001b[0m\n\u001b[1;32m     28\u001b[0m y \u001b[39m=\u001b[39m entry[\u001b[39m'\u001b[39m\u001b[39mddg\u001b[39m\u001b[39m'\u001b[39m]  \u001b[39m# numpy.float64\u001b[39;00m\n\u001b[1;32m     30\u001b[0m wt_graph \u001b[39m=\u001b[39m \u001b[39mself\u001b[39m\u001b[39m.\u001b[39mfeaturize_graph(wt_name)\n\u001b[0;32m---> 31\u001b[0m mut_graph \u001b[39m=\u001b[39m \u001b[39mself\u001b[39;49m\u001b[39m.\u001b[39;49mfeaturize_graph(mut_name)\n\u001b[1;32m     32\u001b[0m y \u001b[39m=\u001b[39m torch\u001b[39m.\u001b[39mtensor(y, dtype\u001b[39m=\u001b[39mtorch\u001b[39m.\u001b[39mfloat32)\n\u001b[1;32m     34\u001b[0m \u001b[39mreturn\u001b[39;00m wt_graph, mut_graph, y\n",
      "File \u001b[0;32m~/GPSite_siamese/data.py:41\u001b[0m, in \u001b[0;36mSiameseProteinGraphDataset.featurize_graph\u001b[0;34m(self, name)\u001b[0m\n\u001b[1;32m     39\u001b[0m     seq \u001b[39m=\u001b[39m seq_file\u001b[39m.\u001b[39mreadline()\n\u001b[1;32m     40\u001b[0m coord \u001b[39m=\u001b[39m torch\u001b[39m.\u001b[39mload(\u001b[39mf\u001b[39m\u001b[39m\"\u001b[39m\u001b[39m{\u001b[39;00m\u001b[39mself\u001b[39m\u001b[39m.\u001b[39mfeature_path\u001b[39m}\u001b[39;00m\u001b[39m/coord/\u001b[39m\u001b[39m{\u001b[39;00mname\u001b[39m}\u001b[39;00m\u001b[39m.pt\u001b[39m\u001b[39m\"\u001b[39m)\n\u001b[0;32m---> 41\u001b[0m ProtTrans_feature \u001b[39m=\u001b[39m torch\u001b[39m.\u001b[39;49mload(\u001b[39mf\u001b[39;49m\u001b[39m\"\u001b[39;49m\u001b[39m{\u001b[39;49;00m\u001b[39mself\u001b[39;49m\u001b[39m.\u001b[39;49mfeature_path\u001b[39m}\u001b[39;49;00m\u001b[39m/ProtTrans/\u001b[39;49m\u001b[39m{\u001b[39;49;00mname\u001b[39m}\u001b[39;49;00m\u001b[39m.pt\u001b[39;49m\u001b[39m\"\u001b[39;49m)\n\u001b[1;32m     42\u001b[0m DSSP_feature \u001b[39m=\u001b[39m torch\u001b[39m.\u001b[39mload(\u001b[39mf\u001b[39m\u001b[39m\"\u001b[39m\u001b[39m{\u001b[39;00m\u001b[39mself\u001b[39m\u001b[39m.\u001b[39mfeature_path\u001b[39m}\u001b[39;00m\u001b[39m/DSSP/\u001b[39m\u001b[39m{\u001b[39;00mname\u001b[39m}\u001b[39;00m\u001b[39m.pt\u001b[39m\u001b[39m\"\u001b[39m)\n\u001b[1;32m     44\u001b[0m pre_computed_node_feature \u001b[39m=\u001b[39m torch\u001b[39m.\u001b[39mcat([ProtTrans_feature, DSSP_feature], dim\u001b[39m=\u001b[39m\u001b[39m-\u001b[39m\u001b[39m1\u001b[39m)\n",
      "File \u001b[0;32m~/miniconda3/envs/gpsite/lib/python3.8/site-packages/torch/serialization.py:777\u001b[0m, in \u001b[0;36mload\u001b[0;34m(f, map_location, pickle_module, weights_only, **pickle_load_args)\u001b[0m\n\u001b[1;32m    772\u001b[0m \u001b[39mif\u001b[39;00m _is_zipfile(opened_file):\n\u001b[1;32m    773\u001b[0m     \u001b[39m# The zipfile reader is going to advance the current file position.\u001b[39;00m\n\u001b[1;32m    774\u001b[0m     \u001b[39m# If we want to actually tail call to torch.jit.load, we need to\u001b[39;00m\n\u001b[1;32m    775\u001b[0m     \u001b[39m# reset back to the original position.\u001b[39;00m\n\u001b[1;32m    776\u001b[0m     orig_position \u001b[39m=\u001b[39m opened_file\u001b[39m.\u001b[39mtell()\n\u001b[0;32m--> 777\u001b[0m     \u001b[39mwith\u001b[39;00m _open_zipfile_reader(opened_file) \u001b[39mas\u001b[39;00m opened_zipfile:\n\u001b[1;32m    778\u001b[0m         \u001b[39mif\u001b[39;00m _is_torchscript_zip(opened_zipfile):\n\u001b[1;32m    779\u001b[0m             warnings\u001b[39m.\u001b[39mwarn(\u001b[39m\"\u001b[39m\u001b[39m'\u001b[39m\u001b[39mtorch.load\u001b[39m\u001b[39m'\u001b[39m\u001b[39m received a zip file that looks like a TorchScript archive\u001b[39m\u001b[39m\"\u001b[39m\n\u001b[1;32m    780\u001b[0m                           \u001b[39m\"\u001b[39m\u001b[39m dispatching to \u001b[39m\u001b[39m'\u001b[39m\u001b[39mtorch.jit.load\u001b[39m\u001b[39m'\u001b[39m\u001b[39m (call \u001b[39m\u001b[39m'\u001b[39m\u001b[39mtorch.jit.load\u001b[39m\u001b[39m'\u001b[39m\u001b[39m directly to\u001b[39m\u001b[39m\"\u001b[39m\n\u001b[1;32m    781\u001b[0m                           \u001b[39m\"\u001b[39m\u001b[39m silence this warning)\u001b[39m\u001b[39m\"\u001b[39m, \u001b[39mUserWarning\u001b[39;00m)\n",
      "File \u001b[0;32m~/miniconda3/envs/gpsite/lib/python3.8/site-packages/torch/serialization.py:282\u001b[0m, in \u001b[0;36m_open_zipfile_reader.__init__\u001b[0;34m(self, name_or_buffer)\u001b[0m\n\u001b[1;32m    281\u001b[0m \u001b[39mdef\u001b[39;00m \u001b[39m__init__\u001b[39m(\u001b[39mself\u001b[39m, name_or_buffer) \u001b[39m-\u001b[39m\u001b[39m>\u001b[39m \u001b[39mNone\u001b[39;00m:\n\u001b[0;32m--> 282\u001b[0m     \u001b[39msuper\u001b[39m(_open_zipfile_reader, \u001b[39mself\u001b[39m)\u001b[39m.\u001b[39m\u001b[39m__init__\u001b[39m(torch\u001b[39m.\u001b[39;49m_C\u001b[39m.\u001b[39;49mPyTorchFileReader(name_or_buffer))\n",
      "\u001b[0;31mKeyboardInterrupt\u001b[0m: "
     ]
    }
   ],
   "source": [
    "# train\n",
    "loss_history = []\n",
    "model.train()\n",
    "for epoch in range(num_epochs):\n",
    "    print(f\"Epoch {epoch+1}/{num_epochs}\")\n",
    "    progress_bar = tqdm(enumerate(train_dataloader), total=len(train_dataloader), position=0, leave=True)\n",
    "\n",
    "    for batch, (wt_graph, mut_graph, y) in progress_bar:\n",
    "        wt_graph, mut_graph, y = wt_graph.to(device), mut_graph.to(device), y.to(device)\n",
    "        pred = model(wt_graph, mut_graph)\n",
    "\n",
    "        loss = loss_fn(pred, y)\n",
    "        # print(loss)\n",
    "        loss_history.append(loss.item())\n",
    "        \n",
    "        loss.backward()\n",
    "        optimizer.step()\n",
    "        optimizer.zero_grad()\n",
    "\n",
    "        progress_bar.set_description(f\"\\033[31mloss: {loss:.4f}\\033[0m\")\n"
   ]
  },
  {
   "cell_type": "code",
   "execution_count": 18,
   "metadata": {},
   "outputs": [
    {
     "data": {
      "text/plain": [
       "Text(0, 0.5, 'Loss')"
      ]
     },
     "execution_count": 18,
     "metadata": {},
     "output_type": "execute_result"
    },
    {
     "data": {
      "image/png": "[encoded data removed]",
      "text/plain": [
       "<Figure size 640x480 with 1 Axes>"
      ]
     },
     "metadata": {},
     "output_type": "display_data"
    }
   ],
   "source": [
    "import matplotlib.pyplot as plt\n",
    "\n",
    "\n",
    "plt.figure()\n",
    "plt.plot(range(len(loss_history)), loss_history, label='Training Loss', color='blue')\n",
    "plt.title('Training Loss Curve')\n",
    "plt.xlabel('batchs of all epoch')\n",
    "plt.ylabel('Loss')"
   ]
  },
  {
   "cell_type": "code",
   "execution_count": null,
   "metadata": {},
   "outputs": [],
   "source": []
  },
  {
   "cell_type": "code",
   "execution_count": null,
   "metadata": {},
   "outputs": [],
   "source": []
  },
  {
   "cell_type": "code",
   "execution_count": null,
   "metadata": {},
   "outputs": [],
   "source": []
  },
  {
   "cell_type": "code",
   "execution_count": null,
   "metadata": {},
   "outputs": [],
   "source": []
  }
 ],
 "metadata": {
  "kernelspec": {
   "display_name": "gpsite",
   "language": "python",
   "name": "python3"
  },
  "language_info": {
   "codemirror_mode": {
    "name": "ipython",
    "version": 3
   },
   "file_extension": ".py",
   "mimetype": "text/x-python",
   "name": "python",
   "nbconvert_exporter": "python",
   "pygments_lexer": "ipython3",
   "version": "3.8.18"
  }
 },
 "nbformat": 4,
 "nbformat_minor": 2
}
