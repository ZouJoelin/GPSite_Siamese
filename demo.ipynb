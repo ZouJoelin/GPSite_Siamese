{
 "cells": [
  {
   "cell_type": "code",
   "execution_count": 1,
   "metadata": {},
   "outputs": [],
   "source": [
    "import os\n",
    "\n",
    "import numpy as np\n",
    "import torch\n",
    "\n",
    "from tqdm import tqdm"
   ]
  },
  {
   "cell_type": "code",
   "execution_count": 2,
   "metadata": {},
   "outputs": [
    {
     "data": {
      "text/html": [
       "<div>\n",
       "<style scoped>\n",
       "    .dataframe tbody tr th:only-of-type {\n",
       "        vertical-align: middle;\n",
       "    }\n",
       "\n",
       "    .dataframe tbody tr th {\n",
       "        vertical-align: top;\n",
       "    }\n",
       "\n",
       "    .dataframe thead th {\n",
       "        text-align: right;\n",
       "    }\n",
       "</style>\n",
       "<table border=\"1\" class=\"dataframe\">\n",
       "  <thead>\n",
       "    <tr style=\"text-align: right;\">\n",
       "      <th></th>\n",
       "      <th>pdb</th>\n",
       "      <th>mutation</th>\n",
       "      <th>affinity_wt</th>\n",
       "      <th>affinity_mut</th>\n",
       "      <th>temp</th>\n",
       "      <th>ddg</th>\n",
       "      <th>daffinity</th>\n",
       "    </tr>\n",
       "  </thead>\n",
       "  <tbody>\n",
       "    <tr>\n",
       "      <th>0</th>\n",
       "      <td>1CSE_E_I</td>\n",
       "      <td>LI38G</td>\n",
       "      <td>1.120000e-12</td>\n",
       "      <td>5.260000e-11</td>\n",
       "      <td>294.0</td>\n",
       "      <td>2.248833</td>\n",
       "      <td>5.148000e-11</td>\n",
       "    </tr>\n",
       "    <tr>\n",
       "      <th>1</th>\n",
       "      <td>1CSE_E_I</td>\n",
       "      <td>LI38S</td>\n",
       "      <td>1.120000e-12</td>\n",
       "      <td>8.330000e-12</td>\n",
       "      <td>294.0</td>\n",
       "      <td>1.172229</td>\n",
       "      <td>7.210000e-12</td>\n",
       "    </tr>\n",
       "    <tr>\n",
       "      <th>2</th>\n",
       "      <td>1CSE_E_I</td>\n",
       "      <td>LI38P</td>\n",
       "      <td>1.120000e-12</td>\n",
       "      <td>1.020000e-07</td>\n",
       "      <td>294.0</td>\n",
       "      <td>6.671276</td>\n",
       "      <td>1.019989e-07</td>\n",
       "    </tr>\n",
       "    <tr>\n",
       "      <th>3</th>\n",
       "      <td>1CSE_E_I</td>\n",
       "      <td>LI38I</td>\n",
       "      <td>1.120000e-12</td>\n",
       "      <td>1.720000e-10</td>\n",
       "      <td>294.0</td>\n",
       "      <td>2.940988</td>\n",
       "      <td>1.708800e-10</td>\n",
       "    </tr>\n",
       "    <tr>\n",
       "      <th>4</th>\n",
       "      <td>1CSE_E_I</td>\n",
       "      <td>LI38D</td>\n",
       "      <td>1.120000e-12</td>\n",
       "      <td>1.920000e-09</td>\n",
       "      <td>294.0</td>\n",
       "      <td>4.350434</td>\n",
       "      <td>1.918880e-09</td>\n",
       "    </tr>\n",
       "    <tr>\n",
       "      <th>...</th>\n",
       "      <td>...</td>\n",
       "      <td>...</td>\n",
       "      <td>...</td>\n",
       "      <td>...</td>\n",
       "      <td>...</td>\n",
       "      <td>...</td>\n",
       "      <td>...</td>\n",
       "    </tr>\n",
       "    <tr>\n",
       "      <th>5830</th>\n",
       "      <td>3QIB_ABP_CD</td>\n",
       "      <td>KP8R</td>\n",
       "      <td>5.500000e-06</td>\n",
       "      <td>2.400000e-04</td>\n",
       "      <td>298.0</td>\n",
       "      <td>2.235909</td>\n",
       "      <td>2.345000e-04</td>\n",
       "    </tr>\n",
       "    <tr>\n",
       "      <th>5831</th>\n",
       "      <td>3QIB_ABP_CD</td>\n",
       "      <td>TP11A</td>\n",
       "      <td>5.500000e-06</td>\n",
       "      <td>1.100000e-03</td>\n",
       "      <td>298.0</td>\n",
       "      <td>3.137419</td>\n",
       "      <td>1.094500e-03</td>\n",
       "    </tr>\n",
       "    <tr>\n",
       "      <th>5832</th>\n",
       "      <td>3QIB_ABP_CD</td>\n",
       "      <td>TP11S</td>\n",
       "      <td>5.500000e-06</td>\n",
       "      <td>3.380000e-05</td>\n",
       "      <td>298.0</td>\n",
       "      <td>1.075181</td>\n",
       "      <td>2.830000e-05</td>\n",
       "    </tr>\n",
       "    <tr>\n",
       "      <th>5833</th>\n",
       "      <td>3QIB_ABP_CD</td>\n",
       "      <td>TP11N</td>\n",
       "      <td>5.500000e-06</td>\n",
       "      <td>4.340000e-05</td>\n",
       "      <td>298.0</td>\n",
       "      <td>1.223219</td>\n",
       "      <td>3.790000e-05</td>\n",
       "    </tr>\n",
       "    <tr>\n",
       "      <th>5834</th>\n",
       "      <td>3QIB_ABP_CD</td>\n",
       "      <td>YP6F,TP11S</td>\n",
       "      <td>5.500000e-06</td>\n",
       "      <td>4.290000e-05</td>\n",
       "      <td>298.0</td>\n",
       "      <td>1.216357</td>\n",
       "      <td>3.740000e-05</td>\n",
       "    </tr>\n",
       "  </tbody>\n",
       "</table>\n",
       "<p>5835 rows × 7 columns</p>\n",
       "</div>"
      ],
      "text/plain": [
       "              pdb    mutation   affinity_wt  affinity_mut   temp       ddg  \\\n",
       "0        1CSE_E_I       LI38G  1.120000e-12  5.260000e-11  294.0  2.248833   \n",
       "1        1CSE_E_I       LI38S  1.120000e-12  8.330000e-12  294.0  1.172229   \n",
       "2        1CSE_E_I       LI38P  1.120000e-12  1.020000e-07  294.0  6.671276   \n",
       "3        1CSE_E_I       LI38I  1.120000e-12  1.720000e-10  294.0  2.940988   \n",
       "4        1CSE_E_I       LI38D  1.120000e-12  1.920000e-09  294.0  4.350434   \n",
       "...           ...         ...           ...           ...    ...       ...   \n",
       "5830  3QIB_ABP_CD        KP8R  5.500000e-06  2.400000e-04  298.0  2.235909   \n",
       "5831  3QIB_ABP_CD       TP11A  5.500000e-06  1.100000e-03  298.0  3.137419   \n",
       "5832  3QIB_ABP_CD       TP11S  5.500000e-06  3.380000e-05  298.0  1.075181   \n",
       "5833  3QIB_ABP_CD       TP11N  5.500000e-06  4.340000e-05  298.0  1.223219   \n",
       "5834  3QIB_ABP_CD  YP6F,TP11S  5.500000e-06  4.290000e-05  298.0  1.216357   \n",
       "\n",
       "         daffinity  \n",
       "0     5.148000e-11  \n",
       "1     7.210000e-12  \n",
       "2     1.019989e-07  \n",
       "3     1.708800e-10  \n",
       "4     1.918880e-09  \n",
       "...            ...  \n",
       "5830  2.345000e-04  \n",
       "5831  1.094500e-03  \n",
       "5832  2.830000e-05  \n",
       "5833  3.790000e-05  \n",
       "5834  3.740000e-05  \n",
       "\n",
       "[5835 rows x 7 columns]"
      ]
     },
     "execution_count": 2,
     "metadata": {},
     "output_type": "execute_result"
    }
   ],
   "source": [
    "info = torch.load(\"./data/dataset.pt\")\n",
    "info\n"
   ]
  },
  {
   "cell_type": "code",
   "execution_count": 3,
   "metadata": {},
   "outputs": [
    {
     "data": {
      "text/plain": [
       "['1CSE', 'E', 'I']"
      ]
     },
     "execution_count": 3,
     "metadata": {},
     "output_type": "execute_result"
    }
   ],
   "source": [
    "\n",
    "entry = info.iloc[0]\n",
    "type(entry['ddg'])\n",
    "entry['pdb'].split('_')"
   ]
  },
  {
   "cell_type": "code",
   "execution_count": 4,
   "metadata": {},
   "outputs": [
    {
     "data": {
      "text/plain": [
       "(Data(edge_index=[2, 21299], name='1CSE', seq='AQTVPYGIPLIKADKVQAQGFKGANVKVAVLDTGIQASHPDLNVVGGASFVAGEAYNTDGNGHGTHVAGTVAALDNTTGVLGVAPSVSLYAVKVLNSSGSGSYSGIVSGIEWATTNGMDVINMSLGGASGSTAMKQAVDNAYARGVVVVAAAGNSGNSGSTNTIGYPAKYDSVIAVGAVDSNSNRASFSSVGAELEVMAPGAGVYSTYPTNTYATLNGTSMASPHVAGAAALILSKHPNLSASQVRNRLSSTATYLGSSFYYGKGLINVEAAAQKSFPEVVGKTVDQAREYFTLHYPQYNVYFLPEGSPVTLDLRYNRVRVFYNPGTNVVNHVPHVG', coord=[337, 5, 3], node_feat=[337, 1033]),\n",
       " Data(edge_index=[2, 21299], name='1CSE_E_I_LI38I', seq='AQTVPYGIPLIKADKVQAQGFKGANVKVAVLDTGIQASHPDLNVVGGASFVAGEAYNTDGNGHGTHVAGTVAALDNTTGVLGVAPSVSLYAVKVLNSSGSGSYSGIVSGIEWATTNGMDVINMSLGGASGSTAMKQAVDNAYARGVVVVAAAGNSGNSGSTNTIGYPAKYDSVIAVGAVDSNSNRASFSSVGAELEVMAPGAGVYSTYPTNTYATLNGTSMASPHVAGAAALILSKHPNLSASQVRNRLSSTATYLGSSFYYGKGLINVEAAAQKSFPEVVGKTVDQAREYFTLHYPQYNVYFLPEGSPVTIDLRYNRVRVFYNPGTNVVNHVPHVG', coord=[337, 5, 3], node_feat=[337, 1033]),\n",
       " tensor(2.9410))"
      ]
     },
     "execution_count": 4,
     "metadata": {},
     "output_type": "execute_result"
    }
   ],
   "source": [
    "from data import *\n",
    "\n",
    "train_dataset = SiameseProteinGraphDataset(info, feature_path=\"./data/\", radius=15)\n",
    "\n",
    "index = 3\n",
    "train_dataset[index]"
   ]
  },
  {
   "cell_type": "code",
   "execution_count": 5,
   "metadata": {},
   "outputs": [
    {
     "name": "stdout",
     "output_type": "stream",
     "text": [
      "train_dataset: 5835\n",
      "train_dataloader: 1459\n"
     ]
    }
   ],
   "source": [
    "from torch_geometric.loader import DataLoader\n",
    "\n",
    "batch_size = 4\n",
    "train_dataloader = DataLoader(train_dataset, batch_size=batch_size)\n",
    "\n",
    "print(f\"train_dataset: {train_dataset.__len__()}\")  # total_data * (fold-1)/fold\n",
    "print(f\"train_dataloader: {train_dataloader.__len__()}\")  # num_samples / batch_size\n"
   ]
  },
  {
   "cell_type": "code",
   "execution_count": 6,
   "metadata": {},
   "outputs": [],
   "source": [
    "from model import *\n",
    "\n",
    "model = SiameseGPSite()\n"
   ]
  },
  {
   "cell_type": "code",
   "execution_count": 7,
   "metadata": {},
   "outputs": [],
   "source": [
    "learning_rate = 1e-3\n",
    "beta12 = (0.9, 0.99)\n",
    "num_epochs = 25\n",
    "epochs = 25\n",
    "\n",
    "loss_fn = nn.MSELoss()\n",
    "optimizer = torch.optim.Adam(model.parameters(), lr=learning_rate, betas=beta12, weight_decay=1e-5, eps=1e-5)\n",
    "# scheduler = torch.optim.lr_scheduler.OneCycleLR(optimizer, max_lr=learning_rate, steps_per_epoch=len(train_dataloader), epochs=epochs)  # ???\n",
    "\n"
   ]
  },
  {
   "cell_type": "code",
   "execution_count": 8,
   "metadata": {},
   "outputs": [
    {
     "name": "stdout",
     "output_type": "stream",
     "text": [
      "DataBatch(edge_index=[2, 85196], name=[4], seq=[4], coord=[1348, 5, 3], node_feat=[1348, 1033], batch=[1348], ptr=[5])\n",
      "DataBatch(edge_index=[2, 85196], name=[4], seq=[4], coord=[1348, 5, 3], node_feat=[1348, 1033], batch=[1348], ptr=[5])\n",
      "Predicted: tensor([-0.0533, -0.0532, -0.0533, -0.0531])\n",
      "Actual: tensor([2.2488, 1.1722, 6.6713, 2.9410])\n"
     ]
    }
   ],
   "source": [
    "# test\n",
    "train_data = next(iter(train_dataloader))\n",
    "model.eval()\n",
    "with torch.no_grad():\n",
    "    # train_data = train_data.to(device)\n",
    "    wt_graph, mut_graph, y = train_data\n",
    "    print(wt_graph)\n",
    "    print(mut_graph)\n",
    "\n",
    "    pred = model(wt_graph, mut_graph)\n",
    "\n",
    "    print(f\"Predicted: {pred}\\nActual: {y}\")\n",
    "    # print((pred == y))\n",
    "    # print(((pred == y)).sum())\n",
    "    \n"
   ]
  },
  {
   "cell_type": "code",
   "execution_count": null,
   "metadata": {},
   "outputs": [],
   "source": []
  },
  {
   "cell_type": "code",
   "execution_count": null,
   "metadata": {},
   "outputs": [],
   "source": []
  },
  {
   "cell_type": "code",
   "execution_count": null,
   "metadata": {},
   "outputs": [],
   "source": []
  },
  {
   "cell_type": "code",
   "execution_count": null,
   "metadata": {},
   "outputs": [],
   "source": []
  }
 ],
 "metadata": {
  "kernelspec": {
   "display_name": "gpsite",
   "language": "python",
   "name": "python3"
  },
  "language_info": {
   "codemirror_mode": {
    "name": "ipython",
    "version": 3
   },
   "file_extension": ".py",
   "mimetype": "text/x-python",
   "name": "python",
   "nbconvert_exporter": "python",
   "pygments_lexer": "ipython3",
   "version": "3.8.18"
  }
 },
 "nbformat": 4,
 "nbformat_minor": 2
}
